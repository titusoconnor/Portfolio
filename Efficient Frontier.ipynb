{
 "cells": [
  {
   "cell_type": "markdown",
   "id": "cdee2a42",
   "metadata": {},
   "source": [
    "# Efficient Frontier"
   ]
  },
  {
   "cell_type": "code",
   "execution_count": 2,
   "id": "759754a8",
   "metadata": {},
   "outputs": [],
   "source": [
    "#Import Libraries\n",
    "import numpy as np\n",
    "import pandas as pd\n",
    "import matplotlib.pyplot as plt\n",
    "import seaborn as sns\n",
    "import scipy.optimize as sco"
   ]
  },
  {
   "cell_type": "code",
   "execution_count": 3,
   "id": "4475a0aa",
   "metadata": {},
   "outputs": [],
   "source": [
    "#Import Data\n",
    "AMZNdf = pd.read_csv(\"C:\\\\Users\\\\CSLO\\\\Documents\\\\New folder\\\\Datasets\\\\AMZN.csv\", usecols=(0,5))\n",
    "DISdf = pd.read_csv(\"C:\\\\Users\\\\CSLO\\\\Documents\\\\New folder\\\\Datasets\\\\DIS.csv\", usecols=(0,5))\n",
    "GEdf = pd.read_csv(\"C:\\\\Users\\\\CSLO\\\\Documents\\\\New folder\\\\Datasets\\\\GE.csv\", usecols=(0,5))\n",
    "JPMdf = pd.read_csv(\"C:\\\\Users\\\\CSLO\\\\Documents\\\\New folder\\\\Datasets\\\\JPM.csv\", usecols=(0,5))\n",
    "AALdf = pd.read_csv(\"C:\\\\Users\\\\CSLO\\\\Documents\\\\New folder\\\\Datasets\\\\AAL.csv\", usecols=(0,5))"
   ]
  },
  {
   "cell_type": "code",
   "execution_count": 4,
   "id": "78d6c105",
   "metadata": {},
   "outputs": [
    {
     "name": "stdout",
     "output_type": "stream",
     "text": [
      "            Date       AMZN        DIS         GE         JPM        AAL\n",
      "0     2010-01-04   6.695000  27.715311  54.076012   29.335226   4.496876\n",
      "1     2010-01-05   6.734500  27.646177  54.356010   29.903456   5.005957\n",
      "2     2010-01-06   6.612500  27.499256  54.076012   30.067751   4.798554\n",
      "3     2010-01-07   6.500000  27.507906  56.876057   30.663364   4.939965\n",
      "4     2010-01-08   6.676000  27.551113  58.101086   30.588057   4.845691\n",
      "...          ...        ...        ...        ...         ...        ...\n",
      "3267  2022-12-23  85.250000  87.321243  50.627350  125.269852  12.710000\n",
      "3268  2022-12-27  83.040001  85.694084  51.277283  125.708794  12.530000\n",
      "3269  2022-12-28  81.820000  83.511292  50.738758  126.395851  12.320000\n",
      "3270  2022-12-29  84.180000  86.497742  51.840561  127.121033  12.700000\n",
      "3271  2022-12-30  84.000000  86.200081  51.865330  127.960770  12.720000\n",
      "\n",
      "[3272 rows x 6 columns]\n"
     ]
    }
   ],
   "source": [
    "#Merge Datasets: Pd.merge only accepts merging two datasets at a time and has a problem with suffixes past three merges. \n",
    "#Hence, we have to improvise\n",
    "df=pd.merge(AMZNdf, DISdf, on=\"Date\", how='left')\n",
    "df=pd.merge(df,GEdf, on=\"Date\", how='left')\n",
    "df.columns=['Date', 'AMZN', 'DIS', 'GE']\n",
    "df=pd.merge(df, JPMdf, on=\"Date\", how='left')\n",
    "df=pd.merge(df, AALdf, on='Date', how='left')\n",
    "df.columns=['Date', 'AMZN', 'DIS', 'GE', 'JPM', 'AAL']\n",
    "print(df)"
   ]
  },
  {
   "cell_type": "code",
   "execution_count": 5,
   "id": "61fa67ba",
   "metadata": {
    "scrolled": true
   },
   "outputs": [
    {
     "data": {
      "text/html": [
       "<div>\n",
       "<style scoped>\n",
       "    .dataframe tbody tr th:only-of-type {\n",
       "        vertical-align: middle;\n",
       "    }\n",
       "\n",
       "    .dataframe tbody tr th {\n",
       "        vertical-align: top;\n",
       "    }\n",
       "\n",
       "    .dataframe thead th {\n",
       "        text-align: right;\n",
       "    }\n",
       "</style>\n",
       "<table border=\"1\" class=\"dataframe\">\n",
       "  <thead>\n",
       "    <tr style=\"text-align: right;\">\n",
       "      <th></th>\n",
       "      <th>AMZN</th>\n",
       "      <th>DIS</th>\n",
       "      <th>GE</th>\n",
       "      <th>JPM</th>\n",
       "      <th>AAL</th>\n",
       "    </tr>\n",
       "    <tr>\n",
       "      <th>Date</th>\n",
       "      <th></th>\n",
       "      <th></th>\n",
       "      <th></th>\n",
       "      <th></th>\n",
       "      <th></th>\n",
       "    </tr>\n",
       "  </thead>\n",
       "  <tbody>\n",
       "    <tr>\n",
       "      <th>2010-01-04</th>\n",
       "      <td>6.695000</td>\n",
       "      <td>27.715311</td>\n",
       "      <td>54.076012</td>\n",
       "      <td>29.335226</td>\n",
       "      <td>4.496876</td>\n",
       "    </tr>\n",
       "    <tr>\n",
       "      <th>2010-01-05</th>\n",
       "      <td>6.734500</td>\n",
       "      <td>27.646177</td>\n",
       "      <td>54.356010</td>\n",
       "      <td>29.903456</td>\n",
       "      <td>5.005957</td>\n",
       "    </tr>\n",
       "    <tr>\n",
       "      <th>2010-01-06</th>\n",
       "      <td>6.612500</td>\n",
       "      <td>27.499256</td>\n",
       "      <td>54.076012</td>\n",
       "      <td>30.067751</td>\n",
       "      <td>4.798554</td>\n",
       "    </tr>\n",
       "    <tr>\n",
       "      <th>2010-01-07</th>\n",
       "      <td>6.500000</td>\n",
       "      <td>27.507906</td>\n",
       "      <td>56.876057</td>\n",
       "      <td>30.663364</td>\n",
       "      <td>4.939965</td>\n",
       "    </tr>\n",
       "    <tr>\n",
       "      <th>2010-01-08</th>\n",
       "      <td>6.676000</td>\n",
       "      <td>27.551113</td>\n",
       "      <td>58.101086</td>\n",
       "      <td>30.588057</td>\n",
       "      <td>4.845691</td>\n",
       "    </tr>\n",
       "    <tr>\n",
       "      <th>...</th>\n",
       "      <td>...</td>\n",
       "      <td>...</td>\n",
       "      <td>...</td>\n",
       "      <td>...</td>\n",
       "      <td>...</td>\n",
       "    </tr>\n",
       "    <tr>\n",
       "      <th>2022-12-23</th>\n",
       "      <td>85.250000</td>\n",
       "      <td>87.321243</td>\n",
       "      <td>50.627350</td>\n",
       "      <td>125.269852</td>\n",
       "      <td>12.710000</td>\n",
       "    </tr>\n",
       "    <tr>\n",
       "      <th>2022-12-27</th>\n",
       "      <td>83.040001</td>\n",
       "      <td>85.694084</td>\n",
       "      <td>51.277283</td>\n",
       "      <td>125.708794</td>\n",
       "      <td>12.530000</td>\n",
       "    </tr>\n",
       "    <tr>\n",
       "      <th>2022-12-28</th>\n",
       "      <td>81.820000</td>\n",
       "      <td>83.511292</td>\n",
       "      <td>50.738758</td>\n",
       "      <td>126.395851</td>\n",
       "      <td>12.320000</td>\n",
       "    </tr>\n",
       "    <tr>\n",
       "      <th>2022-12-29</th>\n",
       "      <td>84.180000</td>\n",
       "      <td>86.497742</td>\n",
       "      <td>51.840561</td>\n",
       "      <td>127.121033</td>\n",
       "      <td>12.700000</td>\n",
       "    </tr>\n",
       "    <tr>\n",
       "      <th>2022-12-30</th>\n",
       "      <td>84.000000</td>\n",
       "      <td>86.200081</td>\n",
       "      <td>51.865330</td>\n",
       "      <td>127.960770</td>\n",
       "      <td>12.720000</td>\n",
       "    </tr>\n",
       "  </tbody>\n",
       "</table>\n",
       "<p>3272 rows × 5 columns</p>\n",
       "</div>"
      ],
      "text/plain": [
       "                 AMZN        DIS         GE         JPM        AAL\n",
       "Date                                                              \n",
       "2010-01-04   6.695000  27.715311  54.076012   29.335226   4.496876\n",
       "2010-01-05   6.734500  27.646177  54.356010   29.903456   5.005957\n",
       "2010-01-06   6.612500  27.499256  54.076012   30.067751   4.798554\n",
       "2010-01-07   6.500000  27.507906  56.876057   30.663364   4.939965\n",
       "2010-01-08   6.676000  27.551113  58.101086   30.588057   4.845691\n",
       "...               ...        ...        ...         ...        ...\n",
       "2022-12-23  85.250000  87.321243  50.627350  125.269852  12.710000\n",
       "2022-12-27  83.040001  85.694084  51.277283  125.708794  12.530000\n",
       "2022-12-28  81.820000  83.511292  50.738758  126.395851  12.320000\n",
       "2022-12-29  84.180000  86.497742  51.840561  127.121033  12.700000\n",
       "2022-12-30  84.000000  86.200081  51.865330  127.960770  12.720000\n",
       "\n",
       "[3272 rows x 5 columns]"
      ]
     },
     "execution_count": 5,
     "metadata": {},
     "output_type": "execute_result"
    }
   ],
   "source": [
    "#Set Index\n",
    "df.set_index('Date', inplace=True)\n",
    "df"
   ]
  },
  {
   "cell_type": "code",
   "execution_count": 6,
   "id": "ef6b1298",
   "metadata": {
    "scrolled": true
   },
   "outputs": [
    {
     "name": "stdout",
     "output_type": "stream",
     "text": [
      "The annualised returns of different stocks is: AMZN    21.515416\n",
      "DIS      9.135164\n",
      "GE      -0.321052\n",
      "JPM     12.016485\n",
      "AAL      8.340224\n",
      "dtype: float64\n"
     ]
    }
   ],
   "source": [
    "#Calculate Returns\n",
    "returns=df.astype(float).pct_change()[1:]\n",
    "returns\n",
    "ar=((1+returns).prod())**(252/len(returns))-1\n",
    "ar=ar*100\n",
    "print(\"The annualised returns of different stocks is: {0}\".format(ar))"
   ]
  },
  {
   "cell_type": "code",
   "execution_count": 7,
   "id": "cc5b1b78",
   "metadata": {},
   "outputs": [
    {
     "name": "stdout",
     "output_type": "stream",
     "text": [
      "The annualised volatility of different stocks is: AMZN    33.031645\n",
      "DIS     26.071317\n",
      "GE      31.940351\n",
      "JPM     28.531329\n",
      "AAL     53.048082\n",
      "dtype: float64\n"
     ]
    }
   ],
   "source": [
    "#Volatility\n",
    "v=returns.std()*np.sqrt(252)*100\n",
    "print(\"The annualised volatility of different stocks is: {0}\".format(v))"
   ]
  },
  {
   "cell_type": "code",
   "execution_count": 8,
   "id": "9e64cba8",
   "metadata": {},
   "outputs": [
    {
     "data": {
      "text/plain": [
       "0.1743080225584806"
      ]
     },
     "execution_count": 8,
     "metadata": {},
     "output_type": "execute_result"
    }
   ],
   "source": [
    "#Calculate Portfolio Return and Annualise it\n",
    "#Portfolio Return= w1(u1) + w2(u2)...w5(u5) \n",
    "\n",
    "#Assuming Equal Weights Across All Assets\n",
    "\n",
    "weights =[0.2,0.2,0.2,0.2,0.2]\n",
    "\n",
    "#Define Function to Get Portfolio Return\n",
    "\n",
    "def portfolioreturn(weights):\n",
    "    return np.dot((returns.mean()+1)**252-1, weights)\n",
    "portfolioreturn(weights)"
   ]
  },
  {
   "cell_type": "code",
   "execution_count": 9,
   "id": "7d1add1f",
   "metadata": {},
   "outputs": [
    {
     "data": {
      "text/html": [
       "<div>\n",
       "<style scoped>\n",
       "    .dataframe tbody tr th:only-of-type {\n",
       "        vertical-align: middle;\n",
       "    }\n",
       "\n",
       "    .dataframe tbody tr th {\n",
       "        vertical-align: top;\n",
       "    }\n",
       "\n",
       "    .dataframe thead th {\n",
       "        text-align: right;\n",
       "    }\n",
       "</style>\n",
       "<table border=\"1\" class=\"dataframe\">\n",
       "  <thead>\n",
       "    <tr style=\"text-align: right;\">\n",
       "      <th></th>\n",
       "      <th>AMZN</th>\n",
       "      <th>DIS</th>\n",
       "      <th>GE</th>\n",
       "      <th>JPM</th>\n",
       "      <th>AAL</th>\n",
       "    </tr>\n",
       "  </thead>\n",
       "  <tbody>\n",
       "    <tr>\n",
       "      <th>AMZN</th>\n",
       "      <td>0.000433</td>\n",
       "      <td>0.000138</td>\n",
       "      <td>0.000114</td>\n",
       "      <td>0.000122</td>\n",
       "      <td>0.000172</td>\n",
       "    </tr>\n",
       "    <tr>\n",
       "      <th>DIS</th>\n",
       "      <td>0.000138</td>\n",
       "      <td>0.000270</td>\n",
       "      <td>0.000162</td>\n",
       "      <td>0.000173</td>\n",
       "      <td>0.000234</td>\n",
       "    </tr>\n",
       "    <tr>\n",
       "      <th>GE</th>\n",
       "      <td>0.000114</td>\n",
       "      <td>0.000162</td>\n",
       "      <td>0.000405</td>\n",
       "      <td>0.000213</td>\n",
       "      <td>0.000287</td>\n",
       "    </tr>\n",
       "    <tr>\n",
       "      <th>JPM</th>\n",
       "      <td>0.000122</td>\n",
       "      <td>0.000173</td>\n",
       "      <td>0.000213</td>\n",
       "      <td>0.000323</td>\n",
       "      <td>0.000281</td>\n",
       "    </tr>\n",
       "    <tr>\n",
       "      <th>AAL</th>\n",
       "      <td>0.000172</td>\n",
       "      <td>0.000234</td>\n",
       "      <td>0.000287</td>\n",
       "      <td>0.000281</td>\n",
       "      <td>0.001117</td>\n",
       "    </tr>\n",
       "  </tbody>\n",
       "</table>\n",
       "</div>"
      ],
      "text/plain": [
       "          AMZN       DIS        GE       JPM       AAL\n",
       "AMZN  0.000433  0.000138  0.000114  0.000122  0.000172\n",
       "DIS   0.000138  0.000270  0.000162  0.000173  0.000234\n",
       "GE    0.000114  0.000162  0.000405  0.000213  0.000287\n",
       "JPM   0.000122  0.000173  0.000213  0.000323  0.000281\n",
       "AAL   0.000172  0.000234  0.000287  0.000281  0.001117"
      ]
     },
     "execution_count": 9,
     "metadata": {},
     "output_type": "execute_result"
    }
   ],
   "source": [
    "#Define Covar Matrix\n",
    "returns.cov()"
   ]
  },
  {
   "cell_type": "code",
   "execution_count": 10,
   "id": "73ede63b",
   "metadata": {},
   "outputs": [],
   "source": [
    "#Get Portfolio Variance, Standard Deviation, and Annualised Volatility"
   ]
  },
  {
   "cell_type": "markdown",
   "id": "db1ba25d",
   "metadata": {},
   "source": [
    "Volatility is the std dev of stock returns.\n",
    "\n",
    "Portfolio Variance for a 5 Asset Portfolio is defined by the Formula\n",
    "σ²(port) = w1²σ1² + w2²σ2² + w3²σ3² + w3²σ3² + w5²σ5²*2w1w2σ1σ2ρ(1,2) + 2w1w3σ1σ3ρ(1,3) + 2w1w4σ1σ4ρ(1,4) + 2w1w5σ1σ5ρ(1,5)*2w2w3σ2σ3ρ(2,3) + 2w2w4σ2σ4ρ(2,4) + 2w2w5σ2σ5ρ(2,5)*2w3w4σ3σ4ρ(3,4) + 2w3w5σ3σ5ρ(3,5)*2w4w5σ4σ5ρ(4,5)\n",
    "\n",
    "The standard deviation is the sqrt of this variance\n",
    "\n",
    "The annualised volatility is obtained by multiplying the standard deviation with the sqrt of 252 to represents the number of trading days in a year"
   ]
  },
  {
   "cell_type": "code",
   "execution_count": 11,
   "id": "d50d43f8",
   "metadata": {},
   "outputs": [
    {
     "data": {
      "text/plain": [
       "0.25276821127940535"
      ]
     },
     "execution_count": 11,
     "metadata": {},
     "output_type": "execute_result"
    }
   ],
   "source": [
    "#Function to Get Annualised Volatility\n",
    "def annualisedportfoliovol(weights):\n",
    "    return (np.dot(np.dot(returns.cov(), weights), weights))**(1/2)*np.sqrt(252)\n",
    "annualisedportfoliovol(weights)"
   ]
  },
  {
   "cell_type": "code",
   "execution_count": 12,
   "id": "7be6bb40",
   "metadata": {},
   "outputs": [
    {
     "data": {
      "text/plain": [
       "array([0.02938461, 0.3130558 , 0.21913528, 0.12182646, 0.31659786])"
      ]
     },
     "execution_count": 12,
     "metadata": {},
     "output_type": "execute_result"
    }
   ],
   "source": [
    "#Create Random Weight Generator Function to Apply in Multiple Random Portfolios\n",
    "\n",
    "def randomweightgen (returns):\n",
    "    rand = np.random.random(len(df.columns))\n",
    "    rand/=rand.sum()\n",
    "    return rand\n",
    "randomweightgen(returns)"
   ]
  },
  {
   "cell_type": "code",
   "execution_count": 13,
   "id": "475f24e8",
   "metadata": {},
   "outputs": [],
   "source": [
    "#Define Empty List\n",
    "p_returns = []\n",
    "p_weight = []\n",
    "p_volatility = []\n",
    "risk_free_rate = 0.03\n",
    "results = []\n",
    "\n",
    "num_portfolios = 2000\n"
   ]
  },
  {
   "cell_type": "code",
   "execution_count": 14,
   "id": "c718a0e7",
   "metadata": {},
   "outputs": [],
   "source": [
    "#Portfolio Generation\n",
    "for i in range(2000):\n",
    "    weights=randomweightgen (returns)\n",
    "    p_returns.append(portfolioreturn(weights))\n",
    "    p_volatility.append(annualisedportfoliovol(weights))\n",
    "    p_weight.append(weights)"
   ]
  },
  {
   "cell_type": "code",
   "execution_count": 15,
   "id": "36db8acf",
   "metadata": {
    "scrolled": true
   },
   "outputs": [],
   "source": [
    "data ={'Returns':p_returns, 'Volatility':p_volatility}"
   ]
  },
  {
   "cell_type": "code",
   "execution_count": 16,
   "id": "faba6b6c",
   "metadata": {},
   "outputs": [
    {
     "data": {
      "text/html": [
       "<div>\n",
       "<style scoped>\n",
       "    .dataframe tbody tr th:only-of-type {\n",
       "        vertical-align: middle;\n",
       "    }\n",
       "\n",
       "    .dataframe tbody tr th {\n",
       "        vertical-align: top;\n",
       "    }\n",
       "\n",
       "    .dataframe thead th {\n",
       "        text-align: right;\n",
       "    }\n",
       "</style>\n",
       "<table border=\"1\" class=\"dataframe\">\n",
       "  <thead>\n",
       "    <tr style=\"text-align: right;\">\n",
       "      <th></th>\n",
       "      <th>Returns</th>\n",
       "      <th>Volatility</th>\n",
       "      <th>AMZNweight</th>\n",
       "      <th>DISweight</th>\n",
       "      <th>GEweight</th>\n",
       "      <th>JPMweight</th>\n",
       "      <th>AALweight</th>\n",
       "    </tr>\n",
       "  </thead>\n",
       "  <tbody>\n",
       "    <tr>\n",
       "      <th>0</th>\n",
       "      <td>0.175393</td>\n",
       "      <td>0.231417</td>\n",
       "      <td>0.262605</td>\n",
       "      <td>0.415391</td>\n",
       "      <td>0.103920</td>\n",
       "      <td>0.139688</td>\n",
       "      <td>0.078395</td>\n",
       "    </tr>\n",
       "    <tr>\n",
       "      <th>1</th>\n",
       "      <td>0.166481</td>\n",
       "      <td>0.234628</td>\n",
       "      <td>0.224113</td>\n",
       "      <td>0.233793</td>\n",
       "      <td>0.209522</td>\n",
       "      <td>0.239076</td>\n",
       "      <td>0.093496</td>\n",
       "    </tr>\n",
       "    <tr>\n",
       "      <th>2</th>\n",
       "      <td>0.164782</td>\n",
       "      <td>0.290923</td>\n",
       "      <td>0.060542</td>\n",
       "      <td>0.265734</td>\n",
       "      <td>0.213575</td>\n",
       "      <td>0.120953</td>\n",
       "      <td>0.339196</td>\n",
       "    </tr>\n",
       "    <tr>\n",
       "      <th>3</th>\n",
       "      <td>0.174137</td>\n",
       "      <td>0.236889</td>\n",
       "      <td>0.213961</td>\n",
       "      <td>0.262026</td>\n",
       "      <td>0.140758</td>\n",
       "      <td>0.266412</td>\n",
       "      <td>0.116842</td>\n",
       "    </tr>\n",
       "    <tr>\n",
       "      <th>4</th>\n",
       "      <td>0.196295</td>\n",
       "      <td>0.258423</td>\n",
       "      <td>0.216301</td>\n",
       "      <td>0.186547</td>\n",
       "      <td>0.048893</td>\n",
       "      <td>0.324976</td>\n",
       "      <td>0.223283</td>\n",
       "    </tr>\n",
       "    <tr>\n",
       "      <th>...</th>\n",
       "      <td>...</td>\n",
       "      <td>...</td>\n",
       "      <td>...</td>\n",
       "      <td>...</td>\n",
       "      <td>...</td>\n",
       "      <td>...</td>\n",
       "      <td>...</td>\n",
       "    </tr>\n",
       "    <tr>\n",
       "      <th>1995</th>\n",
       "      <td>0.184236</td>\n",
       "      <td>0.271868</td>\n",
       "      <td>0.156964</td>\n",
       "      <td>0.172310</td>\n",
       "      <td>0.133640</td>\n",
       "      <td>0.258437</td>\n",
       "      <td>0.278649</td>\n",
       "    </tr>\n",
       "    <tr>\n",
       "      <th>1996</th>\n",
       "      <td>0.176110</td>\n",
       "      <td>0.245684</td>\n",
       "      <td>0.258058</td>\n",
       "      <td>0.017307</td>\n",
       "      <td>0.237113</td>\n",
       "      <td>0.383840</td>\n",
       "      <td>0.103682</td>\n",
       "    </tr>\n",
       "    <tr>\n",
       "      <th>1997</th>\n",
       "      <td>0.179881</td>\n",
       "      <td>0.263390</td>\n",
       "      <td>0.126038</td>\n",
       "      <td>0.288306</td>\n",
       "      <td>0.082297</td>\n",
       "      <td>0.256204</td>\n",
       "      <td>0.247155</td>\n",
       "    </tr>\n",
       "    <tr>\n",
       "      <th>1998</th>\n",
       "      <td>0.252738</td>\n",
       "      <td>0.307076</td>\n",
       "      <td>0.528494</td>\n",
       "      <td>0.092417</td>\n",
       "      <td>0.002571</td>\n",
       "      <td>0.009584</td>\n",
       "      <td>0.366934</td>\n",
       "    </tr>\n",
       "    <tr>\n",
       "      <th>1999</th>\n",
       "      <td>0.174165</td>\n",
       "      <td>0.284223</td>\n",
       "      <td>0.091966</td>\n",
       "      <td>0.382150</td>\n",
       "      <td>0.120937</td>\n",
       "      <td>0.076091</td>\n",
       "      <td>0.328856</td>\n",
       "    </tr>\n",
       "  </tbody>\n",
       "</table>\n",
       "<p>2000 rows × 7 columns</p>\n",
       "</div>"
      ],
      "text/plain": [
       "       Returns  Volatility  AMZNweight  DISweight  GEweight  JPMweight  \\\n",
       "0     0.175393    0.231417    0.262605   0.415391  0.103920   0.139688   \n",
       "1     0.166481    0.234628    0.224113   0.233793  0.209522   0.239076   \n",
       "2     0.164782    0.290923    0.060542   0.265734  0.213575   0.120953   \n",
       "3     0.174137    0.236889    0.213961   0.262026  0.140758   0.266412   \n",
       "4     0.196295    0.258423    0.216301   0.186547  0.048893   0.324976   \n",
       "...        ...         ...         ...        ...       ...        ...   \n",
       "1995  0.184236    0.271868    0.156964   0.172310  0.133640   0.258437   \n",
       "1996  0.176110    0.245684    0.258058   0.017307  0.237113   0.383840   \n",
       "1997  0.179881    0.263390    0.126038   0.288306  0.082297   0.256204   \n",
       "1998  0.252738    0.307076    0.528494   0.092417  0.002571   0.009584   \n",
       "1999  0.174165    0.284223    0.091966   0.382150  0.120937   0.076091   \n",
       "\n",
       "      AALweight  \n",
       "0      0.078395  \n",
       "1      0.093496  \n",
       "2      0.339196  \n",
       "3      0.116842  \n",
       "4      0.223283  \n",
       "...         ...  \n",
       "1995   0.278649  \n",
       "1996   0.103682  \n",
       "1997   0.247155  \n",
       "1998   0.366934  \n",
       "1999   0.328856  \n",
       "\n",
       "[2000 rows x 7 columns]"
      ]
     },
     "execution_count": 16,
     "metadata": {},
     "output_type": "execute_result"
    }
   ],
   "source": [
    "for counter, symbol in enumerate (returns.columns. tolist()):\n",
    "    #print (counter, symbol)\n",
    "    data[symbol+\"weight\"]=[weights[counter] for weights in p_weight]\n",
    "portfolios = pd.DataFrame(data)\n",
    "portfolios"
   ]
  },
  {
   "cell_type": "code",
   "execution_count": 18,
   "id": "79957170",
   "metadata": {
    "scrolled": false
   },
   "outputs": [
    {
     "data": {
      "text/plain": [
       "<Figure size 1000x700 with 0 Axes>"
      ]
     },
     "execution_count": 18,
     "metadata": {},
     "output_type": "execute_result"
    },
    {
     "data": {
      "image/png": "[encoded data removed]",
      "text/plain": [
       "<Figure size 640x480 with 1 Axes>"
      ]
     },
     "metadata": {},
     "output_type": "display_data"
    },
    {
     "data": {
      "text/plain": [
       "<Figure size 1000x700 with 0 Axes>"
      ]
     },
     "metadata": {},
     "output_type": "display_data"
    }
   ],
   "source": [
    "#Plot Efficient Frontier\n",
    "plt.scatter(p_volatility, p_returns, marker='o', s=11, alpha=0.5)\n",
    "plt.title(\"Efficient Frontier\")\n",
    "plt.ylabel(\"Portfolio Return\")\n",
    "plt.xlabel(\"Portfolio Volatility\")\n",
    "plt.figure(figsize=(10, 7))"
   ]
  },
  {
   "cell_type": "markdown",
   "id": "71264213",
   "metadata": {},
   "source": [
    "The Maximum Sharpe Ratio Portfolio is the portfolio that gives the highest value of the Sharpe Ratio.\n",
    "The Sharpe Ratio is given by the formula:\n",
    "Sharpe Ratio = (Rx – Rf) / StdDev Rx\n",
    "Where: Rx = Expected portfolio return. Rf = Risk-free rate of return. StdDev Rx = Standard deviation of portfolio return (or, volatility)"
   ]
  },
  {
   "cell_type": "code",
   "execution_count": 19,
   "id": "197d26fe",
   "metadata": {},
   "outputs": [],
   "source": [
    "#Specify Risk Free Rate\n",
    "rfr=0.03"
   ]
  },
  {
   "cell_type": "code",
   "execution_count": 20,
   "id": "f8b3579d",
   "metadata": {},
   "outputs": [
    {
     "data": {
      "text/plain": [
       "Returns       0.239475\n",
       "Volatility    0.263477\n",
       "AMZNweight    0.632382\n",
       "DISweight     0.080064\n",
       "GEweight      0.031606\n",
       "JPMweight     0.178454\n",
       "AALweight     0.077494\n",
       "Name: 500, dtype: float64"
      ]
     },
     "execution_count": 20,
     "metadata": {},
     "output_type": "execute_result"
    }
   ],
   "source": [
    "max_sharpe_ratio_portfolio=portfolios.iloc[((portfolios['Returns']-rfr)/portfolios['Volatility']).idxmax()]\n",
    "max_sharpe_ratio_portfolio"
   ]
  },
  {
   "cell_type": "code",
   "execution_count": null,
   "id": "f6b3e54b",
   "metadata": {},
   "outputs": [],
   "source": []
  }
 ],
 "metadata": {
  "kernelspec": {
   "display_name": "Python 3 (ipykernel)",
   "language": "python",
   "name": "python3"
  },
  "language_info": {
   "codemirror_mode": {
    "name": "ipython",
    "version": 3
   },
   "file_extension": ".py",
   "mimetype": "text/x-python",
   "name": "python",
   "nbconvert_exporter": "python",
   "pygments_lexer": "ipython3",
   "version": "3.11.5"
  }
 },
 "nbformat": 4,
 "nbformat_minor": 5
}
